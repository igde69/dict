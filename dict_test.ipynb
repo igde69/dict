{
  "nbformat": 4,
  "nbformat_minor": 0,
  "metadata": {
    "colab": {
      "provenance": [],
      "authorship_tag": "ABX9TyP2DYwM9V84udWZgJDdSYnC",
      "include_colab_link": true
    },
    "kernelspec": {
      "name": "python3",
      "display_name": "Python 3"
    },
    "language_info": {
      "name": "python"
    }
  },
  "cells": [
    {
      "cell_type": "markdown",
      "metadata": {
        "id": "view-in-github",
        "colab_type": "text"
      },
      "source": [
        "<a href=\"https://colab.research.google.com/github/igde69/dict/blob/main/dict_test.ipynb\" target=\"_parent\"><img src=\"https://colab.research.google.com/assets/colab-badge.svg\" alt=\"Open In Colab\"/></a>"
      ]
    },
    {
      "cell_type": "code",
      "execution_count": null,
      "metadata": {
        "id": "33YS8nt1LbNm"
      },
      "outputs": [],
      "source": [
        "# Перебрать словарь и рассчитать все суммы гостиниц\n",
        "\n",
        "#hotel_prices = {}\n",
        "#hotel_prices['aloHotel'] = 94\n",
        "#hotel_prices['Appart lounge'] = 100\n",
        "#hotel_prices['Sleepower'] = 49\n",
        "#hotel_prices['Penthouseus'] = 37\n",
        "#hotel_prices['Hotel star'] = 7\n",
        "\n",
        "hotel_prices = {\n",
        "'aloHotel' : 94,\n",
        "'Appart lounge': 100,\n",
        "'Sleepower': 49,\n",
        "'Penthouseus' : 37,\n",
        "'Hotel star':  7,\n",
        "}\n",
        "\n",
        "# цикл for для словаря\n",
        "# метод items распаковывает словарь в пары ключ-значение \n",
        "\n",
        "for hotel_name, price in hotel_prices.items():\n",
        "    print(hotel_name, price)\n",
        "\n",
        "# метод values получает доступ к значениям\n",
        "total_sum = 0\n",
        "for price in hotel_prices.values():\n",
        "    total_sum += price\n",
        "\n",
        "print(\"Общая стоимость гостиниц =\", total_sum)\n"
      ]
    }
  ]
}